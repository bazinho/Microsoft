{
 "cells": [
  {
   "cell_type": "code",
   "execution_count": 1,
   "metadata": {},
   "outputs": [
    {
     "name": "stderr",
     "output_type": "stream",
     "text": [
      "Using TensorFlow backend.\n"
     ]
    }
   ],
   "source": [
    "import os\n",
    "import os.path\n",
    "import glob\n",
    "from PIL import Image\n",
    "from sklearn.preprocessing import LabelEncoder\n",
    "from sklearn.model_selection import StratifiedKFold                                                                                                                       \n",
    "from sklearn.metrics import confusion_matrix,accuracy_score\n",
    "from sklearn import svm\n",
    "\n",
    "import matplotlib.pyplot as plt\n",
    "\n",
    "import numpy as np\n",
    "np.random.seed(1)\n",
    "\n",
    "from keras.preprocessing.image import img_to_array\n",
    "from keras.utils import np_utils\n",
    "from keras.preprocessing import image\n",
    "from keras.applications.resnet50 import ResNet50\n",
    "from keras.applications.imagenet_utils import preprocess_input"
   ]
  },
  {
   "cell_type": "code",
   "execution_count": 2,
   "metadata": {
    "collapsed": true
   },
   "outputs": [],
   "source": [
    "imagedir = \"ImagesByFamily\""
   ]
  },
  {
   "cell_type": "code",
   "execution_count": 3,
   "metadata": {},
   "outputs": [
    {
     "name": "stdout",
     "output_type": "stream",
     "text": [
      "Label: 0\tFamily:           Gatak\tNumber of images: 1013\n",
      "Label: 1\tFamily:    Kelihos_ver1\tNumber of images: 398\n",
      "Label: 2\tFamily:    Kelihos_ver3\tNumber of images: 2942\n",
      "Label: 3\tFamily:        Lollipop\tNumber of images: 2478\n",
      "Label: 4\tFamily:  Obfuscator.ACY\tNumber of images: 1228\n",
      "Label: 5\tFamily:          Ramnit\tNumber of images: 1541\n",
      "Label: 6\tFamily:           Simda\tNumber of images: 42\n",
      "Label: 7\tFamily:          Tracur\tNumber of images: 751\n",
      "Label: 8\tFamily:           Vundo\tNumber of images: 475\n",
      "Processing images ...\n",
      "Images processed: 10868\n"
     ]
    }
   ],
   "source": [
    "cur_dir = os.getcwd()\n",
    "os.chdir(imagedir)  # the parent folder with sub-folders\n",
    "\n",
    "# Get number of samples per family\n",
    "list_fams = sorted(os.listdir(os.getcwd()), key=str.lower)  # vector of strings with family names\n",
    "no_imgs = []  # No. of samples per family\n",
    "for i in range(len(list_fams)):\n",
    "    os.chdir(list_fams[i])\n",
    "    len1 = len(glob.glob('*.png'))  # assuming the images are stored as 'png'\n",
    "    no_imgs.append(len1)\n",
    "    os.chdir('..')\n",
    "num_samples = np.sum(no_imgs)  # total number of all samples\n",
    "\n",
    "# Compute the labels\n",
    "y = np.zeros(num_samples)\n",
    "pos = 0\n",
    "label = 0\n",
    "for i in no_imgs:\n",
    "    print (\"Label:%2d\\tFamily: %15s\\tNumber of images: %d\" % (label, list_fams[label], i))\n",
    "    for j in range(i):\n",
    "        y[pos] = label\n",
    "        pos += 1\n",
    "    label += 1\n",
    "num_classes = label\n",
    "\n",
    "# Compute the features\n",
    "width, height,channels = (224,224,3)\n",
    "X = np.zeros((num_samples, width, height, channels))\n",
    "cnt = 0\n",
    "list_paths = [] # List of image paths\n",
    "print(\"Processing images ...\")\n",
    "for i in range(len(list_fams)):\n",
    "    for img_file in glob.glob(list_fams[i]+'/*.png'):\n",
    "        #print(\"[%d] Processing image: %s\" % (cnt, img_file))\n",
    "        list_paths.append(os.path.join(os.getcwd(),img_file))\n",
    "        img = image.load_img(img_file, target_size=(224, 224))\n",
    "        x = image.img_to_array(img)\n",
    "        x = np.expand_dims(x, axis=0)\n",
    "        x = preprocess_input(x)\n",
    "        X[cnt] = x\n",
    "        cnt += 1\n",
    "print(\"Images processed: %d\" %(cnt))\n",
    "\n",
    "os.chdir(cur_dir)"
   ]
  },
  {
   "cell_type": "code",
   "execution_count": 4,
   "metadata": {},
   "outputs": [
    {
     "data": {
      "text/plain": [
       "(10868, 224, 224, 3)"
      ]
     },
     "execution_count": 4,
     "metadata": {},
     "output_type": "execute_result"
    }
   ],
   "source": [
    "X.shape"
   ]
  },
  {
   "cell_type": "code",
   "execution_count": 5,
   "metadata": {
    "collapsed": true
   },
   "outputs": [],
   "source": [
    "# Encoding classes (y) into integers (y_encoded) and then generating one-hot-encoding (Y)\n",
    "encoder = LabelEncoder()\n",
    "encoder.fit(y)\n",
    "y_encoded = encoder.transform(y)\n",
    "Y = np_utils.to_categorical(y_encoded)"
   ]
  },
  {
   "cell_type": "code",
   "execution_count": 6,
   "metadata": {
    "collapsed": true
   },
   "outputs": [],
   "source": [
    "# Creating base_model (ResNet50 notop)\n",
    "image_shape = (224, 224, 3)                                                                                                                                                                                                                                                                                            \n",
    "base_model = ResNet50(weights='imagenet', input_shape=image_shape, include_top=False, pooling='avg')"
   ]
  },
  {
   "cell_type": "code",
   "execution_count": 7,
   "metadata": {},
   "outputs": [
    {
     "name": "stdout",
     "output_type": "stream",
     "text": [
      "Loading ResNet50 extracted features from Microsoft-resnet50features-avgpool.npy ...\n"
     ]
    }
   ],
   "source": [
    "filename = 'Microsoft-resnet50features-avgpool.npy'\n",
    "if os.path.exists(filename):\n",
    "    print(\"Loading ResNet50 extracted features from %s ...\" %(filename))\n",
    "    resnet50features = np.load(filename)\n",
    "else:\n",
    "    print(\"Extracting features from ResNet50 layers ...\")\n",
    "    resnet50features = base_model.predict(X)\n",
    "    print(\"Saving ResNet50 extracted features into %s ...\" %(filename))\n",
    "    np.save(filename, resnet50features)"
   ]
  },
  {
   "cell_type": "code",
   "execution_count": 8,
   "metadata": {},
   "outputs": [
    {
     "data": {
      "text/plain": [
       "(10868, 2048)"
      ]
     },
     "execution_count": 8,
     "metadata": {},
     "output_type": "execute_result"
    }
   ],
   "source": [
    "resnet50features.shape"
   ]
  },
  {
   "cell_type": "code",
   "execution_count": 9,
   "metadata": {
    "collapsed": true
   },
   "outputs": [],
   "source": [
    "# Create stratified k-fold subsets                                                                                                                                        \n",
    "kfold = 10  # no. of folds                                                                 \n",
    "skf = StratifiedKFold(kfold, shuffle=True,random_state=1)\n",
    "skfind = [None] * kfold  # skfind[i][0] -> train indices, skfind[i][1] -> test indices\n",
    "cnt = 0                                              \n",
    "for index in skf.split(X, y):         \n",
    "    skfind[cnt] = index                                                 \n",
    "    cnt += 1 "
   ]
  },
  {
   "cell_type": "code",
   "execution_count": 10,
   "metadata": {},
   "outputs": [
    {
     "name": "stdout",
     "output_type": "stream",
     "text": [
      "[0] Test acurracy: 0.9579\n",
      "[1] Test acurracy: 0.9578\n",
      "[2] Test acurracy: 0.9513\n",
      "[3] Test acurracy: 0.9439\n",
      "[4] Test acurracy: 0.9522\n",
      "[5] Test acurracy: 0.9438\n",
      "[6] Test acurracy: 0.9521\n",
      "[7] Test acurracy: 0.9512\n",
      "[8] Test acurracy: 0.9612\n",
      "[9] Test acurracy: 0.9575\n"
     ]
    }
   ],
   "source": [
    "# Training top_model and saving min training loss weights\n",
    "conf_mat = np.zeros((len(list_fams),len(list_fams))) # Initializing the Confusion Matrix\n",
    "for i in range(kfold):\n",
    "    train_indices = skfind[i][0]\n",
    "    test_indices = skfind[i][1]\n",
    "    X_train = resnet50features[train_indices]\n",
    "    y_train = y[train_indices]\n",
    "    X_test = resnet50features[test_indices]\n",
    "    y_test = y[test_indices]\n",
    "    \n",
    "    top_model = svm.SVC()\n",
    "    top_model.fit(X_train,y_train)  # Training\n",
    "    y_pred = top_model.predict(X_test)  # Testing\n",
    "    print(\"[%d] Test acurracy: %.4f\" %(i,accuracy_score(y_test,y_pred)))\n",
    "    cm = confusion_matrix(y_test,y_pred)  # Compute confusion matrix for this fold\n",
    "    conf_mat = conf_mat + cm  # Compute global confusion matrix"
   ]
  },
  {
   "cell_type": "code",
   "execution_count": 11,
   "metadata": {},
   "outputs": [
    {
     "name": "stdout",
     "output_type": "stream",
     "text": [
      "Average acurracy: 0.9529\n"
     ]
    }
   ],
   "source": [
    "# Computing the average accuracy\n",
    "avg_acc = np.trace(conf_mat)/sum(no_imgs)\n",
    "print(\"Average acurracy: %.4f\" %(avg_acc))"
   ]
  },
  {
   "cell_type": "code",
   "execution_count": 12,
   "metadata": {
    "collapsed": true
   },
   "outputs": [],
   "source": [
    "# Viewing the confusion matrix\n",
    "conf_mat = conf_mat.T  # since rows and cols are interchangeable\n",
    "conf_mat_norm = conf_mat/no_imgs  # Normalizing the confusion matrix"
   ]
  },
  {
   "cell_type": "code",
   "execution_count": 13,
   "metadata": {},
   "outputs": [
    {
     "name": "stdout",
     "output_type": "stream",
     "text": [
      "Plotting the confusion matrix\n"
     ]
    },
    {
     "data": {
      "image/png": "[encoded data removed]",
      "text/plain": [
       "<matplotlib.figure.Figure at 0x7f7ce1c7fdd0>"
      ]
     },
     "metadata": {},
     "output_type": "display_data"
    }
   ],
   "source": [
    "print(\"Plotting the confusion matrix\")\n",
    "conf_mat = np.around(conf_mat_norm,decimals=2)  # rounding to display in figure\n",
    "figure = plt.gcf()\n",
    "figure.set_size_inches(24, 18)\n",
    "plt.imshow(conf_mat,interpolation='nearest')\n",
    "for row in range(len(list_fams)):\n",
    "    for col in range(len(list_fams)):\n",
    "        plt.annotate(str(conf_mat[row][col]),xy=(col,row),ha='center',va='center')\n",
    "plt.xticks(range(len(list_fams)),list_fams,rotation=90,fontsize=10)\n",
    "plt.yticks(range(len(list_fams)),list_fams,fontsize=10)\n",
    "plt.title('Confusion matrix')\n",
    "plt.colorbar()\n",
    "plt.show()"
   ]
  }
 ],
 "metadata": {
  "kernelspec": {
   "display_name": "Python 2",
   "language": "python",
   "name": "python2"
  },
  "language_info": {
   "codemirror_mode": {
    "name": "ipython",
    "version": 2
   },
   "file_extension": ".py",
   "mimetype": "text/x-python",
   "name": "python",
   "nbconvert_exporter": "python",
   "pygments_lexer": "ipython2",
   "version": "2.7.12"
  }
 },
 "nbformat": 4,
 "nbformat_minor": 2
}
